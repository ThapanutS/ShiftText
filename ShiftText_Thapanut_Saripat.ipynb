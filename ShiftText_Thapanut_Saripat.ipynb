{
 "cells": [
  {
   "cell_type": "markdown",
   "id": "comic-indianapolis",
   "metadata": {},
   "source": [
    "# Thapanut Saripat\n",
    "Computer Science,Silpakorn University"
   ]
  },
  {
   "cell_type": "code",
   "execution_count": 50,
   "id": "worldwide-excerpt",
   "metadata": {},
   "outputs": [],
   "source": [
    "message1 = \"1.A water container เพราะว่า น้ำเป็นสิ่งจำเป็นในการดำรงชีวิต \\n2.Emergency rations  เพราะว่า เอาไว้ยามฉุกเฉินในกรณีที่ไม่มีอาหาร/มีอาหารน้อย \\n3.A shaving mirror เพราะว่า จะได้เอาไว้ใช้ในการจุดไฟ\""
   ]
  },
  {
   "cell_type": "code",
   "execution_count": 51,
   "id": "peaceful-mapping",
   "metadata": {},
   "outputs": [],
   "source": [
    "message2 = \"1.A water container \\n2.A VHF radio \\n3.Emergency rations \\n4.A fishing rod \\n5.A shaving mirror \\n6. A floating seat or cushion\""
   ]
  },
  {
   "cell_type": "code",
   "execution_count": 52,
   "id": "unlimited-franchise",
   "metadata": {},
   "outputs": [],
   "source": [
    "def convertoASCII(text):\n",
    "    return ord(text)"
   ]
  },
  {
   "cell_type": "code",
   "execution_count": 53,
   "id": "smoking-decade",
   "metadata": {},
   "outputs": [],
   "source": [
    "def convertoText(text):\n",
    "    return chr(text)"
   ]
  },
  {
   "cell_type": "code",
   "execution_count": 54,
   "id": "consecutive-ethiopia",
   "metadata": {},
   "outputs": [],
   "source": [
    "def decode(text):\n",
    "    message = \"\"\n",
    "    for i in text:\n",
    "        point = convertoASCII(i)\n",
    "        if((point >=65 and point <=90) or (point >=97 and point <=122) or (point >= 3585 and point <= 3630)):\n",
    "            point = point + 1 \n",
    "        character = convertoText(point)\n",
    "        message += character\n",
    "    return message"
   ]
  },
  {
   "cell_type": "code",
   "execution_count": 55,
   "id": "deadly-space",
   "metadata": {},
   "outputs": [],
   "source": [
    "def encode(text):\n",
    "    message = \"\"\n",
    "    for i in text:\n",
    "        point = convertoASCII(i)\n",
    "        if((point >=65 and point <=90) or (point >=97 and point <=122) or (point >= 3585 and point <= 3630)):\n",
    "            point = point - 1 \n",
    "        character = convertoText(point)\n",
    "        message += character\n",
    "    return message"
   ]
  },
  {
   "cell_type": "code",
   "execution_count": 56,
   "id": "suburban-timber",
   "metadata": {},
   "outputs": [
    {
     "name": "stdout",
     "output_type": "stream",
     "text": [
      "My Individual Ranking\n",
      "1.A water container เพราะว่า น้ำเป็นสิ่งจำเป็นในการดำรงชีวิต \n",
      "2.Emergency rations  เพราะว่า เอาไว้ยามฉุกเฉินในกรณีที่ไม่มีอาหาร/มีอาหารน้อย \n",
      "3.A shaving mirror เพราะว่า จะได้เอาไว้ใช้ในการจุดไฟ\n",
      "\n",
      "My Individual Ranking [Decode]\n",
      "1.B xbufs dpoubjofs เฟฤาะศ่า บ้ำเผ็บหิ่จฉำเผ็บใบขาฤตำฤจซีศิถ \n",
      "2.Fnfshfodz sbujpot  เฟฤาะศ่า เฮาไศ้รายชุขเชิบใบขฤดีธี่ไย่ยีฮาฬาฤ/ยีฮาฬาฤบ้ฮร \n",
      "3.B tibwjoh njssps เฟฤาะศ่า ฉะไต้เฮาไศ้ใซ้ใบขาฤฉุตไภ\n",
      "\n",
      "My Individual Ranking [Encode]\n",
      "1.A water container เพราะว่า น้ำเป็นสิ่งจำเป็นในการดำรงชีวิต \n",
      "2.Emergency rations  เพราะว่า เอาไว้ยามฉุกเฉินในกรณีที่ไม่มีอาหาร/มีอาหารน้อย \n",
      "3.A shaving mirror เพราะว่า จะได้เอาไว้ใช้ในการจุดไฟ\n",
      "\n"
     ]
    }
   ],
   "source": [
    "print(\"My Individual Ranking\\n\" + message1 + \"\\n\")\n",
    "print(\"My Individual Ranking [Decode]\\n\" + decode(message1) + \"\\n\")\n",
    "print(\"My Individual Ranking [Encode]\\n\" + encode(decode(message1)) + \"\\n\")"
   ]
  },
  {
   "cell_type": "code",
   "execution_count": 57,
   "id": "threaded-focus",
   "metadata": {},
   "outputs": [
    {
     "name": "stdout",
     "output_type": "stream",
     "text": [
      "My Group Ranking\n",
      "1.A water container \n",
      "2.A VHF radio \n",
      "3.Emergency rations \n",
      "4.A fishing rod \n",
      "5.A shaving mirror \n",
      "6. A floating seat or cushion\n",
      "\n",
      "My Group Ranking [Decode]\n",
      "1.B xbufs dpoubjofs \n",
      "2.B WIG sbejp \n",
      "3.Fnfshfodz sbujpot \n",
      "4.B gjtijoh spe \n",
      "5.B tibwjoh njssps \n",
      "6. B gmpbujoh tfbu ps dvtijpo\n",
      "\n",
      "My Group Ranking [Encode]\n",
      "1.A water container \n",
      "2.A VHF radio \n",
      "3.Emergency rations \n",
      "4.A fishing rod \n",
      "5.A shaving mirror \n",
      "6. A floating seat or cushion\n",
      "\n"
     ]
    }
   ],
   "source": [
    "print(\"My Group Ranking\\n\" + message2 + \"\\n\")\n",
    "print(\"My Group Ranking [Decode]\\n\" + decode(message2) + \"\\n\")\n",
    "print(\"My Group Ranking [Encode]\\n\" + encode(decode(message2)) + \"\\n\")"
   ]
  },
  {
   "cell_type": "raw",
   "id": "stunning-chocolate",
   "metadata": {},
   "source": [
    "update : 21 Feb 2021 16:32"
   ]
  },
  {
   "cell_type": "code",
   "execution_count": null,
   "id": "instructional-courage",
   "metadata": {},
   "outputs": [],
   "source": []
  }
 ],
 "metadata": {
  "kernelspec": {
   "display_name": "Python 3",
   "language": "python",
   "name": "python3"
  },
  "language_info": {
   "codemirror_mode": {
    "name": "ipython",
    "version": 3
   },
   "file_extension": ".py",
   "mimetype": "text/x-python",
   "name": "python",
   "nbconvert_exporter": "python",
   "pygments_lexer": "ipython3",
   "version": "3.8.5"
  }
 },
 "nbformat": 4,
 "nbformat_minor": 5
}
